{
 "cells": [
  {
   "cell_type": "code",
   "execution_count": 1,
   "metadata": {},
   "outputs": [],
   "source": [
    "import pandas as pd\n",
    "import numpy as np"
   ]
  },
  {
   "cell_type": "code",
   "execution_count": 2,
   "metadata": {},
   "outputs": [],
   "source": [
    "root_path = './source-data/'\n",
    "sub_path = 'detailed/'   # change this when it is necessary\n",
    "spilits_path = 'cv/profileID/'"
   ]
  },
  {
   "cell_type": "code",
   "execution_count": 15,
   "metadata": {},
   "outputs": [],
   "source": [
    "data = pd.read_csv(root_path+sub_path+'profiles.csv.xz')\n",
    "data_target = pd.read_csv(root_path+sub_path+'outputs.csv.xz')"
   ]
  },
  {
   "cell_type": "code",
   "execution_count": 14,
   "metadata": {},
   "outputs": [
    {
     "data": {
      "text/html": [
       "<div>\n",
       "<style scoped>\n",
       "    .dataframe tbody tr th:only-of-type {\n",
       "        vertical-align: middle;\n",
       "    }\n",
       "\n",
       "    .dataframe tbody tr th {\n",
       "        vertical-align: top;\n",
       "    }\n",
       "\n",
       "    .dataframe thead th {\n",
       "        text-align: right;\n",
       "    }\n",
       "</style>\n",
       "<table border=\"1\" class=\"dataframe\">\n",
       "  <thead>\n",
       "    <tr style=\"text-align: right;\">\n",
       "      <th></th>\n",
       "      <th>sequenceID</th>\n",
       "      <th>position</th>\n",
       "      <th>signal</th>\n",
       "    </tr>\n",
       "  </thead>\n",
       "  <tbody>\n",
       "    <tr>\n",
       "      <th>0</th>\n",
       "      <td>506_chr2</td>\n",
       "      <td>18094</td>\n",
       "      <td>0.209141</td>\n",
       "    </tr>\n",
       "    <tr>\n",
       "      <th>1</th>\n",
       "      <td>506_chr2</td>\n",
       "      <td>89172</td>\n",
       "      <td>0.180148</td>\n",
       "    </tr>\n",
       "    <tr>\n",
       "      <th>2</th>\n",
       "      <td>506_chr2</td>\n",
       "      <td>156756</td>\n",
       "      <td>0.199123</td>\n",
       "    </tr>\n",
       "    <tr>\n",
       "      <th>3</th>\n",
       "      <td>506_chr2</td>\n",
       "      <td>326969</td>\n",
       "      <td>0.319618</td>\n",
       "    </tr>\n",
       "    <tr>\n",
       "      <th>4</th>\n",
       "      <td>506_chr2</td>\n",
       "      <td>1048419</td>\n",
       "      <td>0.303342</td>\n",
       "    </tr>\n",
       "    <tr>\n",
       "      <th>...</th>\n",
       "      <td>...</td>\n",
       "      <td>...</td>\n",
       "      <td>...</td>\n",
       "    </tr>\n",
       "    <tr>\n",
       "      <th>1839134</th>\n",
       "      <td>508_chr11</td>\n",
       "      <td>134274301</td>\n",
       "      <td>-0.523370</td>\n",
       "    </tr>\n",
       "    <tr>\n",
       "      <th>1839135</th>\n",
       "      <td>508_chr11</td>\n",
       "      <td>134314113</td>\n",
       "      <td>-0.213680</td>\n",
       "    </tr>\n",
       "    <tr>\n",
       "      <th>1839136</th>\n",
       "      <td>508_chr11</td>\n",
       "      <td>134348285</td>\n",
       "      <td>-0.236960</td>\n",
       "    </tr>\n",
       "    <tr>\n",
       "      <th>1839137</th>\n",
       "      <td>508_chr11</td>\n",
       "      <td>134385903</td>\n",
       "      <td>-0.034680</td>\n",
       "    </tr>\n",
       "    <tr>\n",
       "      <th>1839138</th>\n",
       "      <td>508_chr11</td>\n",
       "      <td>134439385</td>\n",
       "      <td>-0.496330</td>\n",
       "    </tr>\n",
       "  </tbody>\n",
       "</table>\n",
       "<p>1839139 rows × 3 columns</p>\n",
       "</div>"
      ],
      "text/plain": [
       "        sequenceID   position    signal\n",
       "0         506_chr2      18094  0.209141\n",
       "1         506_chr2      89172  0.180148\n",
       "2         506_chr2     156756  0.199123\n",
       "3         506_chr2     326969  0.319618\n",
       "4         506_chr2    1048419  0.303342\n",
       "...            ...        ...       ...\n",
       "1839134  508_chr11  134274301 -0.523370\n",
       "1839135  508_chr11  134314113 -0.213680\n",
       "1839136  508_chr11  134348285 -0.236960\n",
       "1839137  508_chr11  134385903 -0.034680\n",
       "1839138  508_chr11  134439385 -0.496330\n",
       "\n",
       "[1839139 rows x 3 columns]"
      ]
     },
     "execution_count": 14,
     "metadata": {},
     "output_type": "execute_result"
    }
   ],
   "source": []
  },
  {
   "cell_type": "code",
   "execution_count": null,
   "metadata": {},
   "outputs": [],
   "source": []
  }
 ],
 "metadata": {
  "kernelspec": {
   "display_name": "Python 3",
   "language": "python",
   "name": "python3"
  },
  "language_info": {
   "codemirror_mode": {
    "name": "ipython",
    "version": 3
   },
   "file_extension": ".py",
   "mimetype": "text/x-python",
   "name": "python",
   "nbconvert_exporter": "python",
   "pygments_lexer": "ipython3",
   "version": "3.7.4"
  }
 },
 "nbformat": 4,
 "nbformat_minor": 4
}
